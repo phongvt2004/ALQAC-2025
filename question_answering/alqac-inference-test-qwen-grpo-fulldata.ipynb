{
 "cells": [
  {
   "cell_type": "code",
   "execution_count": 1,
   "metadata": {
    "execution": {
     "iopub.execute_input": "2025-07-21T13:19:54.004797Z",
     "iopub.status.busy": "2025-07-21T13:19:54.004625Z",
     "iopub.status.idle": "2025-07-21T13:20:08.643957Z",
     "shell.execute_reply": "2025-07-21T13:20:08.642972Z",
     "shell.execute_reply.started": "2025-07-21T13:19:54.004780Z"
    },
    "trusted": true
   },
   "outputs": [],
   "source": [
    "%%capture\n",
    "import os\n",
    "if \"COLAB_\" not in \"\".join(os.environ.keys()):\n",
    "    !pip install unsloth\n",
    "else:\n",
    "    # Do this only in Colab notebooks! Otherwise use pip install unsloth\n",
    "    !pip install --no-deps bitsandbytes accelerate xformers==0.0.29.post3 peft trl triton cut_cross_entropy unsloth_zoo\n",
    "    !pip install sentencepiece protobuf \"datasets>=3.4.1\" huggingface_hub hf_transfer\n",
    "    !pip install --no-deps unsloth"
   ]
  },
  {
   "cell_type": "code",
   "execution_count": 13,
   "metadata": {
    "execution": {
     "iopub.execute_input": "2025-07-21T13:22:41.893762Z",
     "iopub.status.busy": "2025-07-21T13:22:41.893508Z",
     "iopub.status.idle": "2025-07-21T13:22:54.756528Z",
     "shell.execute_reply": "2025-07-21T13:22:54.755783Z",
     "shell.execute_reply.started": "2025-07-21T13:22:41.893746Z"
    },
    "trusted": true
   },
   "outputs": [
    {
     "name": "stdout",
     "output_type": "stream",
     "text": [
      "Requirement already satisfied: gdown in /usr/local/lib/python3.11/dist-packages (5.2.0)\n",
      "Requirement already satisfied: beautifulsoup4 in /usr/local/lib/python3.11/dist-packages (from gdown) (4.13.4)\n",
      "Requirement already satisfied: filelock in /usr/local/lib/python3.11/dist-packages (from gdown) (3.18.0)\n",
      "Requirement already satisfied: requests[socks] in /usr/local/lib/python3.11/dist-packages (from gdown) (2.32.4)\n",
      "Requirement already satisfied: tqdm in /usr/local/lib/python3.11/dist-packages (from gdown) (4.67.1)\n",
      "Requirement already satisfied: soupsieve>1.2 in /usr/local/lib/python3.11/dist-packages (from beautifulsoup4->gdown) (2.7)\n",
      "Requirement already satisfied: typing-extensions>=4.0.0 in /usr/local/lib/python3.11/dist-packages (from beautifulsoup4->gdown) (4.14.0)\n",
      "Requirement already satisfied: charset_normalizer<4,>=2 in /usr/local/lib/python3.11/dist-packages (from requests[socks]->gdown) (3.4.2)\n",
      "Requirement already satisfied: idna<4,>=2.5 in /usr/local/lib/python3.11/dist-packages (from requests[socks]->gdown) (3.10)\n",
      "Requirement already satisfied: urllib3<3,>=1.21.1 in /usr/local/lib/python3.11/dist-packages (from requests[socks]->gdown) (2.5.0)\n",
      "Requirement already satisfied: certifi>=2017.4.17 in /usr/local/lib/python3.11/dist-packages (from requests[socks]->gdown) (2025.6.15)\n",
      "Requirement already satisfied: PySocks!=1.5.7,>=1.5.6 in /usr/local/lib/python3.11/dist-packages (from requests[socks]->gdown) (1.7.1)\n",
      "Downloading...\n",
      "From: https://drive.google.com/uc?id=13WRuCCpUFPSqwQ3csIe7-UcoSfVcHjpU\n",
      "To: /kaggle/working/data_train_legal_qa_new.json\n",
      "100%|██████████████████████████████████████| 5.83M/5.83M [00:00<00:00, 51.9MB/s]\n",
      "Downloading...\n",
      "From: https://drive.google.com/uc?id=1Gnay_fDFnaB7U9PcTZEgv24RcnywhD0_\n",
      "To: /kaggle/working/alqac25_private_test_task2.json\n",
      "100%|██████████████████████████████████████| 61.0k/61.0k [00:00<00:00, 80.0MB/s]\n",
      "Downloading...\n",
      "From: https://drive.google.com/uc?id=1GUbdSU-ls_THuU-LStkFR6nA3dEdaG2X\n",
      "To: /kaggle/working/alqac25_law.json\n",
      "100%|███████████████████████████████████████| 5.21M/5.21M [00:00<00:00, 104MB/s]\n"
     ]
    }
   ],
   "source": [
    "!pip install gdown\n",
    "!gdown 13WRuCCpUFPSqwQ3csIe7-UcoSfVcHjpU\n",
    "!gdown 1Gnay_fDFnaB7U9PcTZEgv24RcnywhD0_\n",
    "!gdown 1GUbdSU-ls_THuU-LStkFR6nA3dEdaG2X "
   ]
  },
  {
   "cell_type": "markdown",
   "metadata": {},
   "source": [
    "## load data train"
   ]
  },
  {
   "cell_type": "code",
   "execution_count": 3,
   "metadata": {
    "execution": {
     "iopub.execute_input": "2025-07-21T13:20:18.878223Z",
     "iopub.status.busy": "2025-07-21T13:20:18.877962Z",
     "iopub.status.idle": "2025-07-21T13:20:18.969589Z",
     "shell.execute_reply": "2025-07-21T13:20:18.969037Z",
     "shell.execute_reply.started": "2025-07-21T13:20:18.878188Z"
    },
    "trusted": true
   },
   "outputs": [
    {
     "name": "stdout",
     "output_type": "stream",
     "text": [
      "Tổng số mẫu ban đầu: 728\n",
      " - Đúng/Sai: 387\n",
      " - Trắc nghiệm: 285\n",
      " - Tự luận: 56\n",
      "\n",
      "\n",
      "--- Kết quả chia tập dữ liệu ---\n",
      "Tổng số mẫu tập huấn luyện (train): 628\n",
      " - Đúng/Sai: 332\n",
      " - Trắc nghiệm: 245\n",
      " - Tự luận: 51\n",
      "\n",
      "Tổng số mẫu tập kiểm định (valid): 100\n",
      " - Đúng/Sai: 55\n",
      " - Trắc nghiệm: 40\n",
      " - Tự luận: 5\n",
      "\n",
      "Tổng cộng: 728 mẫu (khớp với 728 ban đầu).\n"
     ]
    }
   ],
   "source": [
    "import json\n",
    "import random\n",
    "\n",
    "random.seed(42)\n",
    "\n",
    "# Giả định đường dẫn tệp JSON\n",
    "file_path = 'data_train_legal_qa_new.json'\n",
    "\n",
    "# Bước 1: Tải dữ liệu\n",
    "try:\n",
    "    with open(file_path, 'r', encoding='utf-8') as f:\n",
    "        questions = json.load(f)\n",
    "except FileNotFoundError:\n",
    "    print(f\"Lỗi: Không tìm thấy tệp {file_path}. Vui lòng đảm bảo tệp tồn tại và đúng đường dẫn.\")\n",
    "    exit()\n",
    "except json.JSONDecodeError:\n",
    "    print(f\"Lỗi: Không thể giải mã JSON từ tệp {file_path}. Đảm bảo tệp có định dạng JSON hợp lệ.\")\n",
    "    exit()\n",
    "\n",
    "# Bước 2: Phân loại câu hỏi\n",
    "true_false_questions = [q for q in questions if q['question_type'] == 'Đúng/Sai']\n",
    "multiple_choice_questions = [q for q in questions if q['question_type'] == 'Trắc nghiệm']\n",
    "essay_questions = [q for q in questions if q['question_type'] == 'Tự luận']\n",
    "\n",
    "# Số lượng ban đầu của từng loại\n",
    "num_true_false_total = len(true_false_questions)\n",
    "num_multiple_choice_total = len(multiple_choice_questions)\n",
    "num_essay_total = len(essay_questions)\n",
    "total_samples = len(questions)\n",
    "\n",
    "print(f\"Tổng số mẫu ban đầu: {total_samples}\")\n",
    "print(f\" - Đúng/Sai: {num_true_false_total}\")\n",
    "print(f\" - Trắc nghiệm: {num_multiple_choice_total}\")\n",
    "print(f\" - Tự luận: {num_essay_total}\\n\")\n",
    "\n",
    "# Bước 3: Chuẩn bị chia tập dữ liệu\n",
    "validation_set_target_size = 100\n",
    "num_essay_in_val_requested = 5\n",
    "\n",
    "validation_questions = []\n",
    "train_questions = []\n",
    "\n",
    "# --- Xử lý câu hỏi 'Tự luận' cho tập validation ---\n",
    "if num_essay_total < num_essay_in_val_requested:\n",
    "    print(f\"Cảnh báo: Số lượng câu hỏi 'Tự luận' ({num_essay_total}) ít hơn số lượng yêu cầu cho tập validation ({num_essay_in_val_requested}). Sẽ lấy tất cả {num_essay_total} câu hỏi 'Tự luận' cho tập validation.\")\n",
    "    num_essay_in_val_actual = num_essay_total\n",
    "else:\n",
    "    num_essay_in_val_actual = num_essay_in_val_requested\n",
    "\n",
    "random.shuffle(essay_questions)\n",
    "val_essay_q = essay_questions[:num_essay_in_val_actual]\n",
    "train_essay_q = essay_questions[num_essay_in_val_actual:]\n",
    "\n",
    "validation_questions.extend(val_essay_q)\n",
    "train_questions.extend(train_essay_q)\n",
    "\n",
    "# --- Xử lý câu hỏi 'Đúng/Sai' và 'Trắc nghiệm' cho phần còn lại của tập validation ---\n",
    "remaining_val_slots = validation_set_target_size - len(val_essay_q)\n",
    "\n",
    "if remaining_val_slots > 0:\n",
    "    total_tf_mc_available = num_true_false_total + num_multiple_choice_total\n",
    "\n",
    "    if total_tf_mc_available == 0:\n",
    "        print(\"Không có câu hỏi 'Đúng/Sai' hoặc 'Trắc nghiệm' nào trong dữ liệu gốc để chia cho tập validation.\")\n",
    "    else:\n",
    "        # Tính toán tỷ lệ dựa trên tổng số câu hỏi Đúng/Sai và Trắc nghiệm ban đầu\n",
    "        prop_tf = num_true_false_total / total_tf_mc_available\n",
    "        prop_mc = num_multiple_choice_total / total_tf_mc_available\n",
    "\n",
    "        # Tính số lượng mong muốn cho tập validation dựa trên tỷ lệ và số slot còn lại\n",
    "        num_tf_val_desired = round(remaining_val_slots * prop_tf)\n",
    "        num_mc_val_desired = round(remaining_val_slots * prop_mc)\n",
    "        \n",
    "        # Điều chỉnh làm tròn để tổng số lượng chính xác với remaining_val_slots\n",
    "        current_sum_desired = num_tf_val_desired + num_mc_val_desired\n",
    "        diff = remaining_val_slots - current_sum_desired\n",
    "        if diff != 0:\n",
    "            if diff > 0: # Cần thêm mẫu\n",
    "                # Ưu tiên thêm vào loại có tỷ lệ lớn hơn để duy trì tính đại diện\n",
    "                if prop_tf >= prop_mc:\n",
    "                    num_tf_val_desired += diff\n",
    "                else:\n",
    "                    num_mc_val_desired += diff\n",
    "            else: # Cần bớt mẫu (diff là số âm)\n",
    "                # Ưu tiên bớt từ loại có tỷ lệ lớn hơn\n",
    "                if prop_tf >= prop_mc:\n",
    "                    num_tf_val_desired += diff # diff là số âm\n",
    "                else:\n",
    "                    num_mc_val_desired += diff # diff là số âm\n",
    "        \n",
    "        # Đảm bảo không lấy quá số lượng có sẵn trong dữ liệu gốc\n",
    "        num_tf_val_final = min(num_tf_val_desired, num_true_false_total)\n",
    "        num_mc_val_final = min(num_mc_val_desired, num_multiple_choice_total)\n",
    "\n",
    "        # Kiểm tra xem tổng số lượng sau khi capping có đủ để điền vào remaining_val_slots không\n",
    "        if num_tf_val_final + num_mc_val_final < remaining_val_slots:\n",
    "            print(f\"Cảnh báo: Không đủ câu hỏi Đúng/Sai và Trắc nghiệm để điền đầy đủ {remaining_val_slots} vị trí còn lại trong tập validation. Sẽ lấy tất cả {num_tf_val_final + num_mc_val_final} câu hỏi Đúng/Sai và Trắc nghiệm có thể.\")\n",
    "        \n",
    "        random.shuffle(true_false_questions)\n",
    "        random.shuffle(multiple_choice_questions)\n",
    "\n",
    "        val_tf_q = true_false_questions[:num_tf_val_final]\n",
    "        val_mc_q = multiple_choice_questions[:num_mc_val_final]\n",
    "\n",
    "        train_tf_q = true_false_questions[num_tf_val_final:]\n",
    "        train_mc_q = multiple_choice_questions[num_mc_val_final:]\n",
    "\n",
    "        validation_questions.extend(val_tf_q)\n",
    "        validation_questions.extend(val_mc_q)\n",
    "\n",
    "        train_questions.extend(train_tf_q)\n",
    "        train_questions.extend(train_mc_q)\n",
    "else:\n",
    "    print(\"Không còn chỗ trống trong tập validation để thêm câu hỏi Đúng/Sai hoặc Trắc nghiệm (đã đủ 100 mẫu từ 'Tự luận').\")\n",
    "\n",
    "\n",
    "# Bước 4: Kiểm tra và in kết quả\n",
    "num_train_true_false = sum(1 for q in train_questions if q['question_type'] == 'Đúng/Sai')\n",
    "num_train_multiple_choice = sum(1 for q in train_questions if q['question_type'] == 'Trắc nghiệm')\n",
    "num_train_essay = sum(1 for q in train_questions if q['question_type'] == 'Tự luận')\n",
    "total_train = len(train_questions)\n",
    "\n",
    "num_val_true_false = sum(1 for q in validation_questions if q['question_type'] == 'Đúng/Sai')\n",
    "num_val_multiple_choice = sum(1 for q in validation_questions if q['question_type'] == 'Trắc nghiệm')\n",
    "num_val_essay = sum(1 for q in validation_questions if q['question_type'] == 'Tự luận')\n",
    "\n",
    "print(\"\\n--- Kết quả chia tập dữ liệu ---\")\n",
    "print(f\"Tổng số mẫu tập huấn luyện (train): {total_train}\")\n",
    "print(f\" - Đúng/Sai: {num_train_true_false}\")\n",
    "print(f\" - Trắc nghiệm: {num_train_multiple_choice}\")\n",
    "print(f\" - Tự luận: {num_train_essay}\\n\")\n",
    "\n",
    "print(f\"Tổng số mẫu tập kiểm định (valid): {len(validation_questions)}\")\n",
    "print(f\" - Đúng/Sai: {num_val_true_false}\")\n",
    "print(f\" - Trắc nghiệm: {num_val_multiple_choice}\")\n",
    "print(f\" - Tự luận: {num_val_essay}\\n\")\n",
    "\n",
    "print(f\"Tổng cộng: {total_train + len(validation_questions)} mẫu (khớp với {total_samples} ban đầu).\")"
   ]
  },
  {
   "cell_type": "code",
   "execution_count": 4,
   "metadata": {
    "execution": {
     "iopub.execute_input": "2025-07-21T13:20:18.970594Z",
     "iopub.status.busy": "2025-07-21T13:20:18.970350Z",
     "iopub.status.idle": "2025-07-21T13:20:20.961822Z",
     "shell.execute_reply": "2025-07-21T13:20:20.961288Z",
     "shell.execute_reply.started": "2025-07-21T13:20:18.970569Z"
    },
    "trusted": true
   },
   "outputs": [],
   "source": [
    "from datasets import Dataset\n",
    "train_dataset = Dataset.from_list(train_questions)\n",
    "valid_dataset = Dataset.from_list(validation_questions)"
   ]
  },
  {
   "cell_type": "code",
   "execution_count": 5,
   "metadata": {
    "execution": {
     "iopub.execute_input": "2025-07-21T13:20:20.962752Z",
     "iopub.status.busy": "2025-07-21T13:20:20.962553Z",
     "iopub.status.idle": "2025-07-21T13:20:21.160994Z",
     "shell.execute_reply": "2025-07-21T13:20:21.160291Z",
     "shell.execute_reply.started": "2025-07-21T13:20:20.962735Z"
    },
    "trusted": true
   },
   "outputs": [
    {
     "data": {
      "application/vnd.jupyter.widget-view+json": {
       "model_id": "dc56b39d087341f6a52e79f9d58c1233",
       "version_major": 2,
       "version_minor": 0
      },
      "text/plain": [
       "Map:   0%|          | 0/628 [00:00<?, ? examples/s]"
      ]
     },
     "metadata": {},
     "output_type": "display_data"
    },
    {
     "data": {
      "application/vnd.jupyter.widget-view+json": {
       "model_id": "5902b54943024188af613226b283d4a4",
       "version_major": 2,
       "version_minor": 0
      },
      "text/plain": [
       "Map:   0%|          | 0/100 [00:00<?, ? examples/s]"
      ]
     },
     "metadata": {},
     "output_type": "display_data"
    }
   ],
   "source": [
    "# Chuyển đổi định dạng dataset sang 'messages' nếu bạn muốn fine-tune với chat_template\n",
    "# Điều này rất hữu ích cho các mô hình như Qwen, DeepSeek-R1-Distill-Qwen2.5-7B\n",
    "def format_to_chat_template(example):\n",
    "    messages = [\n",
    "        {\"role\": \"system\", \"content\": example[\"system_prompt\"]},\n",
    "        {\"role\": \"user\", \"content\": example[\"prompt\"]},\n",
    "        {\"role\": \"assistant\", \"content\": example[\"answer_think\"]},\n",
    "    ]\n",
    "    # Unsloth sẽ tự động áp dụng tokenizer.apply_chat_template khi bạn huấn luyện\n",
    "    # Tuy nhiên, nếu bạn muốn kiểm tra trước, bạn có thể gọi tokenizer.apply_chat_template(messages, tokenize=False)\n",
    "    return {\"messages\": messages}\n",
    "\n",
    "# Áp dụng hàm chuyển đổi cho toàn bộ dataset\n",
    "train_dataset = train_dataset.map(format_to_chat_template) #remove_columns=['question_id', 'text', 'relevant_articles', 'system_prompt', 'prompt', 'answer', 'answer_think', 'question_type'])\n",
    "valid_dataset = valid_dataset.map(format_to_chat_template) #remove_columns=['question_id', 'text', 'relevant_articles', 'system_prompt', 'prompt', 'answer', 'answer_think', 'question_type'])"
   ]
  },
  {
   "cell_type": "code",
   "execution_count": 7,
   "metadata": {
    "execution": {
     "iopub.execute_input": "2025-07-21T13:20:33.272862Z",
     "iopub.status.busy": "2025-07-21T13:20:33.271915Z",
     "iopub.status.idle": "2025-07-21T13:20:33.279289Z",
     "shell.execute_reply": "2025-07-21T13:20:33.278032Z",
     "shell.execute_reply.started": "2025-07-21T13:20:33.272819Z"
    },
    "trusted": true
   },
   "outputs": [
    {
     "name": "stdout",
     "output_type": "stream",
     "text": [
      "\n",
      "Một mẫu dữ liệu sau khi được định dạng lại cho chat_template:\n",
      "{'question_id': 'train_alqac25_400', 'question_type': 'Tự luận', 'text': 'Ai là người đứng đầu Nhà nước, thay mặt nước Cộng hòa xã hội chủ nghĩa Việt Nam về đối nội và đối ngoại?', 'relevant_articles': ['Chủ tịch nước là người đứng đầu Nhà nước, thay mặt nước Cộng hoà xã hội chủ nghĩa Việt Nam về đối nội và đối ngoại.'], 'answer': 'chủ tịch nước', 'system_prompt': 'Bạn là một trợ lý pháp lý Tiếng Việt, có nhiệm vụ trả lời các câu hỏi ngắn gọn, chính xác, dựa trên nội dung điều luật được cung cấp. Chỉ trả lời bằng Tiếng Việt.\\n\\nBạn hãy trả lời theo định dạng sau:\\n<think>\\n[Suy nghĩ, phân tích của bạn]\\n</think>\\n[Câu trả lời của bạn]\\n', 'prompt': 'Dựa vào bối cảnh bên dưới, hãy phân tích kỹ trước khi trả lời câu hỏi.\\n\\nLoại câu hỏi: Tự luận\\n\\nCâu hỏi: Ai là người đứng đầu Nhà nước, thay mặt nước Cộng hòa xã hội chủ nghĩa Việt Nam về đối nội và đối ngoại?\\n\\nBối cảnh: \\nChủ tịch nước là người đứng đầu Nhà nước, thay mặt nước Cộng hoà xã hội chủ nghĩa Việt Nam về đối nội và đối ngoại.\\n\\nHãy sinh phần suy luận chi tiết theo mẫu bên dưới trong thẻ <think>...</think>. Bạn cần viết đầy đủ các bước phân tích, dẫn chứng và suy luận trước khi đưa ra câu trả lời ngắn gọn.\\nKhông được trả lời ngay mà phải suy luận đầy đủ trước trong <think>.\\n\\n<think>\\n1. Phân tích câu hỏi: [trình bày ngắn gọn nội dung và ý định của câu hỏi]\\n2. Dẫn chứng từ bối cảnh:\\n   - Hãy tách từng đoạn dài trong bối cảnh thành nhiều ý nhỏ rõ ràng.\\n   - Hãy tách ít nhất 3 đến 5 ý ở phần dẫn chứng từ bối cảnh\\n   - Mỗi ý nên nêu rõ nội dung pháp lý, viết ngắn gọn dễ hiểu.\\n   - Ví dụ:\\n       - [ý 1 từ đoạn luật A]\\n       - [ý 2 từ đoạn luật A]\\n       - [ý 3 từ đoạn luật B]\\n   - Ghi rõ đoạn nào có liên quan đến câu hỏi.\\n3. Suy luận step-by-step:\\n   a) [bước suy luận 1 dựa trên dẫn chứng ở trên]\\n   b) [bước suy luận 2 tiếp theo]\\n   …\\n4. Kết luận: [tóm tắt câu trả lời cuối cùng dựa trên suy luận]\\n</think>\\n\\n[Kết luận cuối cùng sau khi suy luận]', 'answer_think': '<think>\\n\\n1. **Phân tích câu hỏi**:  \\n   Câu hỏi xác định người đứng đầu Nhà nước và vai trò thay mặt nước Cộng hòa trong cả đối nội và đối ngoại.\\n\\n2. **Dẫn chứng từ bối cảnh**:  \\n   - Chủ tịch nước là người đứng đầu Nhà nước.  \\n   - Chủ tịch nước thay mặt nước Cộng hòa.  \\n   - Chủ tịch nước đảm nhiệm vai trò về đối nội và đối ngoại.\\n\\n3. **Suy luận step-by-step**:  \\n   a) Chủ tịch nước là người đứng đầu Nhà nước.  \\n   b) Chủ tịch nước thay mặt nước Cộng hòa trong các vấn đề đối nội và đối ngoại.  \\n   c) Vai trò của Chủ tịch nước được xác định rõ ràng trong bối cảnh pháp lý.\\n\\n4. **Kết luận**: Chủ tịch nước là người đứng đầu Nhà nước, thay mặt nước Cộng hòa.\\n</think>\\nchủ tịch nước', 'messages': [{'content': 'Bạn là một trợ lý pháp lý Tiếng Việt, có nhiệm vụ trả lời các câu hỏi ngắn gọn, chính xác, dựa trên nội dung điều luật được cung cấp. Chỉ trả lời bằng Tiếng Việt.\\n\\nBạn hãy trả lời theo định dạng sau:\\n<think>\\n[Suy nghĩ, phân tích của bạn]\\n</think>\\n[Câu trả lời của bạn]\\n', 'role': 'system'}, {'content': 'Dựa vào bối cảnh bên dưới, hãy phân tích kỹ trước khi trả lời câu hỏi.\\n\\nLoại câu hỏi: Tự luận\\n\\nCâu hỏi: Ai là người đứng đầu Nhà nước, thay mặt nước Cộng hòa xã hội chủ nghĩa Việt Nam về đối nội và đối ngoại?\\n\\nBối cảnh: \\nChủ tịch nước là người đứng đầu Nhà nước, thay mặt nước Cộng hoà xã hội chủ nghĩa Việt Nam về đối nội và đối ngoại.\\n\\nHãy sinh phần suy luận chi tiết theo mẫu bên dưới trong thẻ <think>...</think>. Bạn cần viết đầy đủ các bước phân tích, dẫn chứng và suy luận trước khi đưa ra câu trả lời ngắn gọn.\\nKhông được trả lời ngay mà phải suy luận đầy đủ trước trong <think>.\\n\\n<think>\\n1. Phân tích câu hỏi: [trình bày ngắn gọn nội dung và ý định của câu hỏi]\\n2. Dẫn chứng từ bối cảnh:\\n   - Hãy tách từng đoạn dài trong bối cảnh thành nhiều ý nhỏ rõ ràng.\\n   - Hãy tách ít nhất 3 đến 5 ý ở phần dẫn chứng từ bối cảnh\\n   - Mỗi ý nên nêu rõ nội dung pháp lý, viết ngắn gọn dễ hiểu.\\n   - Ví dụ:\\n       - [ý 1 từ đoạn luật A]\\n       - [ý 2 từ đoạn luật A]\\n       - [ý 3 từ đoạn luật B]\\n   - Ghi rõ đoạn nào có liên quan đến câu hỏi.\\n3. Suy luận step-by-step:\\n   a) [bước suy luận 1 dựa trên dẫn chứng ở trên]\\n   b) [bước suy luận 2 tiếp theo]\\n   …\\n4. Kết luận: [tóm tắt câu trả lời cuối cùng dựa trên suy luận]\\n</think>\\n\\n[Kết luận cuối cùng sau khi suy luận]', 'role': 'user'}, {'content': '<think>\\n\\n1. **Phân tích câu hỏi**:  \\n   Câu hỏi xác định người đứng đầu Nhà nước và vai trò thay mặt nước Cộng hòa trong cả đối nội và đối ngoại.\\n\\n2. **Dẫn chứng từ bối cảnh**:  \\n   - Chủ tịch nước là người đứng đầu Nhà nước.  \\n   - Chủ tịch nước thay mặt nước Cộng hòa.  \\n   - Chủ tịch nước đảm nhiệm vai trò về đối nội và đối ngoại.\\n\\n3. **Suy luận step-by-step**:  \\n   a) Chủ tịch nước là người đứng đầu Nhà nước.  \\n   b) Chủ tịch nước thay mặt nước Cộng hòa trong các vấn đề đối nội và đối ngoại.  \\n   c) Vai trò của Chủ tịch nước được xác định rõ ràng trong bối cảnh pháp lý.\\n\\n4. **Kết luận**: Chủ tịch nước là người đứng đầu Nhà nước, thay mặt nước Cộng hòa.\\n</think>\\nchủ tịch nước', 'role': 'assistant'}]}\n",
      "\n",
      "Các cột trong dataset sau khi xử lý:\n",
      "['question_id', 'question_type', 'text', 'relevant_articles', 'answer', 'system_prompt', 'prompt', 'answer_think', 'messages']\n"
     ]
    }
   ],
   "source": [
    "print(\"\\nMột mẫu dữ liệu sau khi được định dạng lại cho chat_template:\")\n",
    "print(valid_dataset[0])\n",
    "print(\"\\nCác cột trong dataset sau khi xử lý:\")\n",
    "print(valid_dataset.column_names)"
   ]
  },
  {
   "cell_type": "markdown",
   "metadata": {},
   "source": [
    "## load data test"
   ]
  },
  {
   "cell_type": "code",
   "execution_count": 22,
   "metadata": {
    "execution": {
     "iopub.execute_input": "2025-07-21T13:26:39.301153Z",
     "iopub.status.busy": "2025-07-21T13:26:39.300915Z",
     "iopub.status.idle": "2025-07-21T13:26:39.356500Z",
     "shell.execute_reply": "2025-07-21T13:26:39.355958Z",
     "shell.execute_reply.started": "2025-07-21T13:26:39.301137Z"
    },
    "trusted": true
   },
   "outputs": [],
   "source": [
    "import json\n",
    "\n",
    "# Load data\n",
    "with open('alqac25_private_test_task2.json', 'r', encoding='utf-8') as f:\n",
    "    questions = json.load(f)\n",
    "\n",
    "with open('alqac25_law.json', 'r', encoding='utf-8') as f:\n",
    "    corpus = json.load(f)\n",
    "\n",
    "#Build lookup dictionary: { law_id: { article_id: text } }\n",
    "corpus_dict = {}\n",
    "for law in corpus:\n",
    "    law_id = law['id']\n",
    "    articles_dict = {article['id']: article['text'] for article in law.get('articles', [])}\n",
    "    corpus_dict[law_id] = articles_dict\n",
    "\n",
    "# Replace relevant_articles in questions\n",
    "for q in questions:\n",
    "    new_articles = []\n",
    "    for ref in q.get('relevant_articles', []):\n",
    "        law_id = ref['law_id']\n",
    "        article_id = ref['article_id']\n",
    "        text = corpus_dict.get(law_id, {}).get(article_id)\n",
    "        if text:\n",
    "            new_articles.append(text)\n",
    "        else:\n",
    "            print('error')\n",
    "    q['relevant_articles'] = new_articles  # Replace with list of strings\n",
    "\n",
    "# Save the updated file\n",
    "with open('alqac25_private_test_task2_question_text.json', 'w', encoding='utf-8') as f:\n",
    "    json.dump(questions, f, ensure_ascii=False, indent=2)"
   ]
  },
  {
   "cell_type": "code",
   "execution_count": 23,
   "metadata": {
    "execution": {
     "iopub.execute_input": "2025-07-21T13:26:40.027465Z",
     "iopub.status.busy": "2025-07-21T13:26:40.026938Z",
     "iopub.status.idle": "2025-07-21T13:26:40.034608Z",
     "shell.execute_reply": "2025-07-21T13:26:40.033926Z",
     "shell.execute_reply.started": "2025-07-21T13:26:40.027443Z"
    },
    "trusted": true
   },
   "outputs": [
    {
     "data": {
      "text/plain": [
       "{'question_id': 'private_test_alquac25_1',\n",
       " 'question_type': 'Đúng/Sai',\n",
       " 'text': 'Hợp đồng điện tử được ký kết giữa hai hệ thống thông tin tự động mà không có sự can thiệp của con người sẽ không có giá trị pháp lý trong mọi trường hợp.',\n",
       " 'relevant_articles': ['Hợp đồng điện tử\\n1. Hợp đồng điện tử được giao kết hoặc thực hiện từ sự tương tác giữa một hệ thống thông tin tự động với người hoặc giữa các hệ thống thông tin tự động với nhau không bị phủ nhận giá trị pháp lý chỉ vì không có sự kiểm tra hay can thiệp của con người vào từng hành động cụ thể do các hệ thống thông tin tự động thực hiện hay vào hợp đồng.\\n2. Bộ trưởng, Thủ trưởng cơ quan ngang Bộ ban hành theo thẩm quyền hoặc trình cấp có thẩm quyền ban hành quy định về giao kết và thực hiện hợp đồng điện tử trong lĩnh vực thuộc phạm vi nhiệm vụ, quyền hạn được phân công, phù hợp với điều kiện thực tiễn.']}"
      ]
     },
     "execution_count": 23,
     "metadata": {},
     "output_type": "execute_result"
    }
   ],
   "source": [
    "import json\n",
    "with open('alqac25_private_test_task2_question_text.json', 'r', encoding='utf-8') as f:\n",
    "    test_questions = json.load(f)\n",
    "test_questions[0]"
   ]
  },
  {
   "cell_type": "code",
   "execution_count": 24,
   "metadata": {
    "execution": {
     "iopub.execute_input": "2025-07-21T13:26:40.329921Z",
     "iopub.status.busy": "2025-07-21T13:26:40.329486Z",
     "iopub.status.idle": "2025-07-21T13:26:40.347989Z",
     "shell.execute_reply": "2025-07-21T13:26:40.347295Z",
     "shell.execute_reply.started": "2025-07-21T13:26:40.329899Z"
    },
    "trusted": true
   },
   "outputs": [],
   "source": [
    "system_prompt = \"\"\"Bạn là một trợ lý pháp lý Tiếng Việt, có nhiệm vụ trả lời các câu hỏi ngắn gọn, chính xác, dựa trên nội dung điều luật được cung cấp. Chỉ trả lời bằng Tiếng Việt.\n",
    "\n",
    "Bạn hãy trả lời theo định dạng sau:\n",
    "<think>\n",
    "[Suy nghĩ, phân tích của bạn]\n",
    "</think>\n",
    "[Câu trả lời của bạn]\n",
    "\"\"\"\n",
    "def build_prompt(question: dict):\n",
    "    question_text, article_texts, question_type = question['text'], question['relevant_articles'], question['question_type']\n",
    "    texts = [a for a in article_texts if isinstance(a, str)]\n",
    "    article_content = \"\\n\\n\".join(texts)\n",
    "    if question_type == \"Tự luận\":\n",
    "        prompt = (\n",
    "            \"Dựa vào bối cảnh bên dưới, hãy phân tích kỹ trước khi trả lời câu hỏi.\\n\\n\"\n",
    "            f\"Loại câu hỏi: Tự luận\\n\\n\"\n",
    "            f\"Câu hỏi: {question_text}\\n\\n\"\n",
    "            f\"Bối cảnh: \\n{article_content}\\n\\n\"\n",
    "            \"Hãy sinh phần suy luận chi tiết theo mẫu bên dưới trong thẻ <think>...</think>. \"\n",
    "            \"Bạn cần viết đầy đủ các bước phân tích, dẫn chứng và suy luận trước khi đưa ra câu trả lời ngắn gọn.\\n\"\n",
    "            \"Không được trả lời ngay mà phải suy luận đầy đủ trước trong <think>.\\n\\n\"\n",
    "            \"<think>\\n\"\n",
    "            \"1. Phân tích câu hỏi: [trình bày ngắn gọn nội dung và ý định của câu hỏi]\\n\"\n",
    "            \"2. Dẫn chứng từ bối cảnh:\\n\"\n",
    "            \"   - Hãy tách từng đoạn dài trong bối cảnh thành nhiều ý nhỏ rõ ràng.\\n\"\n",
    "            \"   - Hãy tách ít nhất 3 đến 5 ý ở phần dẫn chứng từ bối cảnh\\n\"\n",
    "            \"   - Mỗi ý nên nêu rõ nội dung pháp lý, viết ngắn gọn dễ hiểu.\\n\"\n",
    "            \"   - Ví dụ:\\n\"\n",
    "            \"       - [ý 1 từ đoạn luật A]\\n\"\n",
    "            \"       - [ý 2 từ đoạn luật A]\\n\"\n",
    "            \"       - [ý 3 từ đoạn luật B]\\n\"\n",
    "            \"   - Ghi rõ đoạn nào có liên quan đến câu hỏi.\\n\"\n",
    "            \"3. Suy luận step-by-step:\\n\"\n",
    "            \"   a) [bước suy luận 1 dựa trên dẫn chứng ở trên]\\n\"\n",
    "            \"   b) [bước suy luận 2 tiếp theo]\\n\"\n",
    "            \"   …\\n\"\n",
    "            \"4. Kết luận: [tóm tắt câu trả lời cuối cùng dựa trên suy luận]\\n\"\n",
    "            \"</think>\\n\\n\"\n",
    "            \"[Kết luận cuối cùng sau khi suy luận]\"\n",
    "        )\n",
    "    elif question_type == \"Trắc nghiệm\":\n",
    "        prompt = (\n",
    "            \"Dựa vào bối cảnh bên dưới, hãy phân tích kỹ trước khi trả lời câu hỏi.\\n\\n\"\n",
    "            f\"Loại câu hỏi: Trắc nghiệm (format của Kết luận cuối cùng sau khi suy luận là 1 trong 4 kết luận: 'A', 'B', 'C', 'D'. Không được giải thích gì thêm.)\\n\\n\"\n",
    "            f\"Câu hỏi: {question_text}\\n\\n\"\n",
    "            f\"Bối cảnh: \\n{article_content}\\n\\n\"\n",
    "            f\"4 lựa chọn: \\n\"\n",
    "            f\"A: {q['choices']['A']}\\n\"\n",
    "            f\"B: {q['choices']['B']}\\n\"\n",
    "            f\"C: {q['choices']['C']}\\n\"\n",
    "            f\"D: {q['choices']['D']}\\n\"\n",
    "            \"\\n\\n\"\n",
    "            \"Hãy sinh phần suy luận chi tiết theo mẫu bên dưới trong thẻ <think>...</think>. \"\n",
    "            \"Bạn cần viết đầy đủ các bước phân tích, dẫn chứng và suy luận trước khi đưa ra câu trả lời ngắn gọn.\\n\"\n",
    "            \"Không được trả lời ngay mà phải suy luận đầy đủ trước trong <think>.\\n\\n\"\n",
    "            \"<think>\\n\"\n",
    "            \"1. Phân tích câu hỏi: [trình bày ngắn gọn nội dung và ý định của câu hỏi]\\n\"\n",
    "            \"2. Dẫn chứng từ bối cảnh:\\n\"\n",
    "            \"   - Hãy tách từng đoạn dài trong bối cảnh thành nhiều ý nhỏ rõ ràng.\\n\"\n",
    "            \"   - Hãy tách ít nhất 3 đến 5 ý ở phần dẫn chứng từ bối cảnh\\n\"\n",
    "            \"   - Mỗi ý nên nêu rõ nội dung pháp lý, viết ngắn gọn dễ hiểu.\\n\"\n",
    "            \"   - Ví dụ:\\n\"\n",
    "            \"       - [ý 1 từ đoạn luật A]\\n\"\n",
    "            \"       - [ý 2 từ đoạn luật A]\\n\"\n",
    "            \"       - [ý 3 từ đoạn luật B]\\n\"\n",
    "            \"   - Ghi rõ đoạn nào có liên quan đến câu hỏi.\\n\"\n",
    "            \"3. Suy luận step-by-step:\\n\"\n",
    "            \"   a) [bước suy luận 1 dựa trên dẫn chứng ở trên]\\n\"\n",
    "            \"   b) [bước suy luận 2 tiếp theo]\\n\"\n",
    "            \"   …\\n\"\n",
    "            \"4. Kết luận: [tóm tắt câu trả lời cuối cùng dựa trên suy luận]\\n\"\n",
    "            \"</think>\\n\\n\"\n",
    "            \"[Kết luận cuối cùng sau khi suy luận]\"\n",
    "        )\n",
    "    elif question_type == \"Đúng/Sai\":\n",
    "            prompt = (\n",
    "            \"Dựa vào bối cảnh bên dưới, hãy phân tích kỹ trước khi trả lời câu hỏi.\\n\\n\"\n",
    "            f\"Loại câu hỏi: Đúng/Sai (format của Kết luận cuối cùng sau khi suy luận là 1 trong 2 kết luận: 'Đúng', 'Sai'. Không được giải thích gì thêm.)\\n\\n\"\n",
    "            f\"Câu hỏi: {question_text}\\n\\n\"\n",
    "            f\"Bối cảnh: \\n{article_content}\\n\\n\"\n",
    "            \"Hãy sinh phần suy luận chi tiết theo mẫu bên dưới trong thẻ <think>...</think>. \"\n",
    "            \"Bạn cần viết đầy đủ các bước phân tích, dẫn chứng và suy luận trước khi đưa ra câu trả lời ngắn gọn.\\n\"\n",
    "            \"Không được trả lời ngay mà phải suy luận đầy đủ trước trong <think>.\\n\\n\"\n",
    "            \"<think>\\n\"\n",
    "            \"1. Phân tích câu hỏi: [trình bày ngắn gọn nội dung và ý định của câu hỏi]\\n\"\n",
    "            \"2. Dẫn chứng từ bối cảnh:\\n\"\n",
    "            \"   - Hãy tách từng đoạn dài trong bối cảnh thành nhiều ý nhỏ rõ ràng.\\n\"\n",
    "            \"   - Hãy tách ít nhất 3 đến 5 ý ở phần dẫn chứng từ bối cảnh\\n\"\n",
    "            \"   - Mỗi ý nên nêu rõ nội dung pháp lý, viết ngắn gọn dễ hiểu.\\n\"\n",
    "            \"   - Ví dụ:\\n\"\n",
    "            \"       - [ý 1 từ đoạn luật A]\\n\"\n",
    "            \"       - [ý 2 từ đoạn luật A]\\n\"\n",
    "            \"       - [ý 3 từ đoạn luật B]\\n\"\n",
    "            \"   - Ghi rõ đoạn nào có liên quan đến câu hỏi.\\n\"\n",
    "            \"3. Suy luận step-by-step:\\n\"\n",
    "            \"   a) [bước suy luận 1 dựa trên dẫn chứng ở trên]\\n\"\n",
    "            \"   b) [bước suy luận 2 tiếp theo]\\n\"\n",
    "            \"   …\\n\"\n",
    "            \"4. Kết luận: [tóm tắt câu trả lời cuối cùng dựa trên suy luận]\\n\"\n",
    "            \"</think>\\n\\n\"\n",
    "            \"[Kết luận cuối cùng sau khi suy luận]\"\n",
    "        )\n",
    "    else:\n",
    "        print('Lỗi')\n",
    "\n",
    "    return prompt\n",
    "\n",
    "for q in questions:\n",
    "    q['system_prompt'] = system_prompt\n",
    "    q['prompt'] = build_prompt(q)\n",
    "\n",
    "with open('alqac25_private_test_task2_question_text_new.json', 'w', encoding='utf-8') as f:\n",
    "    json.dump(questions, f, ensure_ascii=False, indent=2)"
   ]
  },
  {
   "cell_type": "code",
   "execution_count": 26,
   "metadata": {
    "execution": {
     "iopub.execute_input": "2025-07-21T13:26:49.934131Z",
     "iopub.status.busy": "2025-07-21T13:26:49.933879Z",
     "iopub.status.idle": "2025-07-21T13:26:49.944246Z",
     "shell.execute_reply": "2025-07-21T13:26:49.943521Z",
     "shell.execute_reply.started": "2025-07-21T13:26:49.934112Z"
    },
    "trusted": true
   },
   "outputs": [
    {
     "data": {
      "text/plain": [
       "{'question_id': 'private_test_alquac25_1',\n",
       " 'question_type': 'Đúng/Sai',\n",
       " 'text': 'Hợp đồng điện tử được ký kết giữa hai hệ thống thông tin tự động mà không có sự can thiệp của con người sẽ không có giá trị pháp lý trong mọi trường hợp.',\n",
       " 'relevant_articles': ['Hợp đồng điện tử\\n1. Hợp đồng điện tử được giao kết hoặc thực hiện từ sự tương tác giữa một hệ thống thông tin tự động với người hoặc giữa các hệ thống thông tin tự động với nhau không bị phủ nhận giá trị pháp lý chỉ vì không có sự kiểm tra hay can thiệp của con người vào từng hành động cụ thể do các hệ thống thông tin tự động thực hiện hay vào hợp đồng.\\n2. Bộ trưởng, Thủ trưởng cơ quan ngang Bộ ban hành theo thẩm quyền hoặc trình cấp có thẩm quyền ban hành quy định về giao kết và thực hiện hợp đồng điện tử trong lĩnh vực thuộc phạm vi nhiệm vụ, quyền hạn được phân công, phù hợp với điều kiện thực tiễn.'],\n",
       " 'system_prompt': 'Bạn là một trợ lý pháp lý Tiếng Việt, có nhiệm vụ trả lời các câu hỏi ngắn gọn, chính xác, dựa trên nội dung điều luật được cung cấp. Chỉ trả lời bằng Tiếng Việt.\\n\\nBạn hãy trả lời theo định dạng sau:\\n<think>\\n[Suy nghĩ, phân tích của bạn]\\n</think>\\n[Câu trả lời của bạn]\\n',\n",
       " 'prompt': \"Dựa vào bối cảnh bên dưới, hãy phân tích kỹ trước khi trả lời câu hỏi.\\n\\nLoại câu hỏi: Đúng/Sai (format của Kết luận cuối cùng sau khi suy luận là 1 trong 2 kết luận: 'Đúng', 'Sai'. Không được giải thích gì thêm.)\\n\\nCâu hỏi: Hợp đồng điện tử được ký kết giữa hai hệ thống thông tin tự động mà không có sự can thiệp của con người sẽ không có giá trị pháp lý trong mọi trường hợp.\\n\\nBối cảnh: \\nHợp đồng điện tử\\n1. Hợp đồng điện tử được giao kết hoặc thực hiện từ sự tương tác giữa một hệ thống thông tin tự động với người hoặc giữa các hệ thống thông tin tự động với nhau không bị phủ nhận giá trị pháp lý chỉ vì không có sự kiểm tra hay can thiệp của con người vào từng hành động cụ thể do các hệ thống thông tin tự động thực hiện hay vào hợp đồng.\\n2. Bộ trưởng, Thủ trưởng cơ quan ngang Bộ ban hành theo thẩm quyền hoặc trình cấp có thẩm quyền ban hành quy định về giao kết và thực hiện hợp đồng điện tử trong lĩnh vực thuộc phạm vi nhiệm vụ, quyền hạn được phân công, phù hợp với điều kiện thực tiễn.\\n\\nHãy sinh phần suy luận chi tiết theo mẫu bên dưới trong thẻ <think>...</think>. Bạn cần viết đầy đủ các bước phân tích, dẫn chứng và suy luận trước khi đưa ra câu trả lời ngắn gọn.\\nKhông được trả lời ngay mà phải suy luận đầy đủ trước trong <think>.\\n\\n<think>\\n1. Phân tích câu hỏi: [trình bày ngắn gọn nội dung và ý định của câu hỏi]\\n2. Dẫn chứng từ bối cảnh:\\n   - Hãy tách từng đoạn dài trong bối cảnh thành nhiều ý nhỏ rõ ràng.\\n   - Hãy tách ít nhất 3 đến 5 ý ở phần dẫn chứng từ bối cảnh\\n   - Mỗi ý nên nêu rõ nội dung pháp lý, viết ngắn gọn dễ hiểu.\\n   - Ví dụ:\\n       - [ý 1 từ đoạn luật A]\\n       - [ý 2 từ đoạn luật A]\\n       - [ý 3 từ đoạn luật B]\\n   - Ghi rõ đoạn nào có liên quan đến câu hỏi.\\n3. Suy luận step-by-step:\\n   a) [bước suy luận 1 dựa trên dẫn chứng ở trên]\\n   b) [bước suy luận 2 tiếp theo]\\n   …\\n4. Kết luận: [tóm tắt câu trả lời cuối cùng dựa trên suy luận]\\n</think>\\n\\n[Kết luận cuối cùng sau khi suy luận]\"}"
      ]
     },
     "execution_count": 26,
     "metadata": {},
     "output_type": "execute_result"
    }
   ],
   "source": [
    "with open('alqac25_private_test_task2_question_text_new.json', 'r', encoding='utf-8') as f:\n",
    "    test_questions = json.load(f)\n",
    "test_questions[0]"
   ]
  },
  {
   "cell_type": "code",
   "execution_count": 29,
   "metadata": {
    "execution": {
     "iopub.execute_input": "2025-07-21T13:29:54.163505Z",
     "iopub.status.busy": "2025-07-21T13:29:54.162859Z",
     "iopub.status.idle": "2025-07-21T13:29:54.177868Z",
     "shell.execute_reply": "2025-07-21T13:29:54.177359Z",
     "shell.execute_reply.started": "2025-07-21T13:29:54.163480Z"
    },
    "trusted": true
   },
   "outputs": [],
   "source": [
    "from datasets import Dataset\n",
    "test_dataset = Dataset.from_list(test_questions)"
   ]
  },
  {
   "cell_type": "code",
   "execution_count": 30,
   "metadata": {
    "execution": {
     "iopub.execute_input": "2025-07-21T13:29:55.101696Z",
     "iopub.status.busy": "2025-07-21T13:29:55.100985Z",
     "iopub.status.idle": "2025-07-21T13:29:55.142414Z",
     "shell.execute_reply": "2025-07-21T13:29:55.141626Z",
     "shell.execute_reply.started": "2025-07-21T13:29:55.101668Z"
    },
    "trusted": true
   },
   "outputs": [
    {
     "data": {
      "application/vnd.jupyter.widget-view+json": {
       "model_id": "6f95dabe2b0149aaac9c9ccb3f9dfc33",
       "version_major": 2,
       "version_minor": 0
      },
      "text/plain": [
       "Map:   0%|          | 0/82 [00:00<?, ? examples/s]"
      ]
     },
     "metadata": {},
     "output_type": "display_data"
    }
   ],
   "source": [
    "# Chuyển đổi định dạng dataset sang 'messages' nếu bạn muốn fine-tune với chat_template\n",
    "# Điều này rất hữu ích cho các mô hình như Qwen, DeepSeek-R1-Distill-Qwen2.5-7B\n",
    "def format_to_chat_template(example):\n",
    "    messages = [\n",
    "        {\"role\": \"system\", \"content\": example[\"system_prompt\"]},\n",
    "        {\"role\": \"user\", \"content\": example[\"prompt\"]},\n",
    "    ]\n",
    "    # Unsloth sẽ tự động áp dụng tokenizer.apply_chat_template khi bạn huấn luyện\n",
    "    # Tuy nhiên, nếu bạn muốn kiểm tra trước, bạn có thể gọi tokenizer.apply_chat_template(messages, tokenize=False)\n",
    "    return {\"messages\": messages}\n",
    "\n",
    "# Áp dụng hàm chuyển đổi cho toàn bộ dataset\n",
    "test_dataset = test_dataset.map(format_to_chat_template) #remove_columns=['question_id', 'text', 'relevant_articles', 'system_prompt', 'prompt', 'answer', 'answer_think', 'question_type'])"
   ]
  },
  {
   "cell_type": "code",
   "execution_count": 31,
   "metadata": {
    "execution": {
     "iopub.execute_input": "2025-07-21T13:29:56.857364Z",
     "iopub.status.busy": "2025-07-21T13:29:56.856683Z",
     "iopub.status.idle": "2025-07-21T13:29:56.862178Z",
     "shell.execute_reply": "2025-07-21T13:29:56.861635Z",
     "shell.execute_reply.started": "2025-07-21T13:29:56.857341Z"
    },
    "trusted": true
   },
   "outputs": [
    {
     "name": "stdout",
     "output_type": "stream",
     "text": [
      "\n",
      "Một mẫu dữ liệu sau khi được định dạng lại cho chat_template:\n",
      "{'question_id': 'private_test_alquac25_1', 'question_type': 'Đúng/Sai', 'text': 'Hợp đồng điện tử được ký kết giữa hai hệ thống thông tin tự động mà không có sự can thiệp của con người sẽ không có giá trị pháp lý trong mọi trường hợp.', 'relevant_articles': ['Hợp đồng điện tử\\n1. Hợp đồng điện tử được giao kết hoặc thực hiện từ sự tương tác giữa một hệ thống thông tin tự động với người hoặc giữa các hệ thống thông tin tự động với nhau không bị phủ nhận giá trị pháp lý chỉ vì không có sự kiểm tra hay can thiệp của con người vào từng hành động cụ thể do các hệ thống thông tin tự động thực hiện hay vào hợp đồng.\\n2. Bộ trưởng, Thủ trưởng cơ quan ngang Bộ ban hành theo thẩm quyền hoặc trình cấp có thẩm quyền ban hành quy định về giao kết và thực hiện hợp đồng điện tử trong lĩnh vực thuộc phạm vi nhiệm vụ, quyền hạn được phân công, phù hợp với điều kiện thực tiễn.'], 'system_prompt': 'Bạn là một trợ lý pháp lý Tiếng Việt, có nhiệm vụ trả lời các câu hỏi ngắn gọn, chính xác, dựa trên nội dung điều luật được cung cấp. Chỉ trả lời bằng Tiếng Việt.\\n\\nBạn hãy trả lời theo định dạng sau:\\n<think>\\n[Suy nghĩ, phân tích của bạn]\\n</think>\\n[Câu trả lời của bạn]\\n', 'prompt': \"Dựa vào bối cảnh bên dưới, hãy phân tích kỹ trước khi trả lời câu hỏi.\\n\\nLoại câu hỏi: Đúng/Sai (format của Kết luận cuối cùng sau khi suy luận là 1 trong 2 kết luận: 'Đúng', 'Sai'. Không được giải thích gì thêm.)\\n\\nCâu hỏi: Hợp đồng điện tử được ký kết giữa hai hệ thống thông tin tự động mà không có sự can thiệp của con người sẽ không có giá trị pháp lý trong mọi trường hợp.\\n\\nBối cảnh: \\nHợp đồng điện tử\\n1. Hợp đồng điện tử được giao kết hoặc thực hiện từ sự tương tác giữa một hệ thống thông tin tự động với người hoặc giữa các hệ thống thông tin tự động với nhau không bị phủ nhận giá trị pháp lý chỉ vì không có sự kiểm tra hay can thiệp của con người vào từng hành động cụ thể do các hệ thống thông tin tự động thực hiện hay vào hợp đồng.\\n2. Bộ trưởng, Thủ trưởng cơ quan ngang Bộ ban hành theo thẩm quyền hoặc trình cấp có thẩm quyền ban hành quy định về giao kết và thực hiện hợp đồng điện tử trong lĩnh vực thuộc phạm vi nhiệm vụ, quyền hạn được phân công, phù hợp với điều kiện thực tiễn.\\n\\nHãy sinh phần suy luận chi tiết theo mẫu bên dưới trong thẻ <think>...</think>. Bạn cần viết đầy đủ các bước phân tích, dẫn chứng và suy luận trước khi đưa ra câu trả lời ngắn gọn.\\nKhông được trả lời ngay mà phải suy luận đầy đủ trước trong <think>.\\n\\n<think>\\n1. Phân tích câu hỏi: [trình bày ngắn gọn nội dung và ý định của câu hỏi]\\n2. Dẫn chứng từ bối cảnh:\\n   - Hãy tách từng đoạn dài trong bối cảnh thành nhiều ý nhỏ rõ ràng.\\n   - Hãy tách ít nhất 3 đến 5 ý ở phần dẫn chứng từ bối cảnh\\n   - Mỗi ý nên nêu rõ nội dung pháp lý, viết ngắn gọn dễ hiểu.\\n   - Ví dụ:\\n       - [ý 1 từ đoạn luật A]\\n       - [ý 2 từ đoạn luật A]\\n       - [ý 3 từ đoạn luật B]\\n   - Ghi rõ đoạn nào có liên quan đến câu hỏi.\\n3. Suy luận step-by-step:\\n   a) [bước suy luận 1 dựa trên dẫn chứng ở trên]\\n   b) [bước suy luận 2 tiếp theo]\\n   …\\n4. Kết luận: [tóm tắt câu trả lời cuối cùng dựa trên suy luận]\\n</think>\\n\\n[Kết luận cuối cùng sau khi suy luận]\", 'messages': [{'content': 'Bạn là một trợ lý pháp lý Tiếng Việt, có nhiệm vụ trả lời các câu hỏi ngắn gọn, chính xác, dựa trên nội dung điều luật được cung cấp. Chỉ trả lời bằng Tiếng Việt.\\n\\nBạn hãy trả lời theo định dạng sau:\\n<think>\\n[Suy nghĩ, phân tích của bạn]\\n</think>\\n[Câu trả lời của bạn]\\n', 'role': 'system'}, {'content': \"Dựa vào bối cảnh bên dưới, hãy phân tích kỹ trước khi trả lời câu hỏi.\\n\\nLoại câu hỏi: Đúng/Sai (format của Kết luận cuối cùng sau khi suy luận là 1 trong 2 kết luận: 'Đúng', 'Sai'. Không được giải thích gì thêm.)\\n\\nCâu hỏi: Hợp đồng điện tử được ký kết giữa hai hệ thống thông tin tự động mà không có sự can thiệp của con người sẽ không có giá trị pháp lý trong mọi trường hợp.\\n\\nBối cảnh: \\nHợp đồng điện tử\\n1. Hợp đồng điện tử được giao kết hoặc thực hiện từ sự tương tác giữa một hệ thống thông tin tự động với người hoặc giữa các hệ thống thông tin tự động với nhau không bị phủ nhận giá trị pháp lý chỉ vì không có sự kiểm tra hay can thiệp của con người vào từng hành động cụ thể do các hệ thống thông tin tự động thực hiện hay vào hợp đồng.\\n2. Bộ trưởng, Thủ trưởng cơ quan ngang Bộ ban hành theo thẩm quyền hoặc trình cấp có thẩm quyền ban hành quy định về giao kết và thực hiện hợp đồng điện tử trong lĩnh vực thuộc phạm vi nhiệm vụ, quyền hạn được phân công, phù hợp với điều kiện thực tiễn.\\n\\nHãy sinh phần suy luận chi tiết theo mẫu bên dưới trong thẻ <think>...</think>. Bạn cần viết đầy đủ các bước phân tích, dẫn chứng và suy luận trước khi đưa ra câu trả lời ngắn gọn.\\nKhông được trả lời ngay mà phải suy luận đầy đủ trước trong <think>.\\n\\n<think>\\n1. Phân tích câu hỏi: [trình bày ngắn gọn nội dung và ý định của câu hỏi]\\n2. Dẫn chứng từ bối cảnh:\\n   - Hãy tách từng đoạn dài trong bối cảnh thành nhiều ý nhỏ rõ ràng.\\n   - Hãy tách ít nhất 3 đến 5 ý ở phần dẫn chứng từ bối cảnh\\n   - Mỗi ý nên nêu rõ nội dung pháp lý, viết ngắn gọn dễ hiểu.\\n   - Ví dụ:\\n       - [ý 1 từ đoạn luật A]\\n       - [ý 2 từ đoạn luật A]\\n       - [ý 3 từ đoạn luật B]\\n   - Ghi rõ đoạn nào có liên quan đến câu hỏi.\\n3. Suy luận step-by-step:\\n   a) [bước suy luận 1 dựa trên dẫn chứng ở trên]\\n   b) [bước suy luận 2 tiếp theo]\\n   …\\n4. Kết luận: [tóm tắt câu trả lời cuối cùng dựa trên suy luận]\\n</think>\\n\\n[Kết luận cuối cùng sau khi suy luận]\", 'role': 'user'}]}\n",
      "\n",
      "Các cột trong test dataset sau khi xử lý:\n",
      "['question_id', 'question_type', 'text', 'relevant_articles', 'system_prompt', 'prompt', 'messages']\n"
     ]
    }
   ],
   "source": [
    "print(\"\\nMột mẫu dữ liệu sau khi được định dạng lại cho chat_template:\")\n",
    "print(test_dataset[0])\n",
    "print(\"\\nCác cột trong test dataset sau khi xử lý:\")\n",
    "print(test_dataset.column_names)"
   ]
  },
  {
   "cell_type": "markdown",
   "metadata": {},
   "source": [
    "## load model"
   ]
  },
  {
   "cell_type": "code",
   "execution_count": 32,
   "metadata": {
    "execution": {
     "iopub.execute_input": "2025-07-21T13:30:47.342022Z",
     "iopub.status.busy": "2025-07-21T13:30:47.341790Z",
     "iopub.status.idle": "2025-07-21T13:33:48.336530Z",
     "shell.execute_reply": "2025-07-21T13:33:48.335952Z",
     "shell.execute_reply.started": "2025-07-21T13:30:47.342006Z"
    },
    "trusted": true
   },
   "outputs": [
    {
     "name": "stdout",
     "output_type": "stream",
     "text": [
      "🦥 Unsloth: Will patch your computer to enable 2x faster free finetuning.\n"
     ]
    },
    {
     "name": "stderr",
     "output_type": "stream",
     "text": [
      "2025-07-21 13:31:03.607415: E external/local_xla/xla/stream_executor/cuda/cuda_fft.cc:477] Unable to register cuFFT factory: Attempting to register factory for plugin cuFFT when one has already been registered\n",
      "WARNING: All log messages before absl::InitializeLog() is called are written to STDERR\n",
      "E0000 00:00:1753104663.953483      36 cuda_dnn.cc:8310] Unable to register cuDNN factory: Attempting to register factory for plugin cuDNN when one has already been registered\n",
      "E0000 00:00:1753104664.053917      36 cuda_blas.cc:1418] Unable to register cuBLAS factory: Attempting to register factory for plugin cuBLAS when one has already been registered\n"
     ]
    },
    {
     "name": "stdout",
     "output_type": "stream",
     "text": [
      "🦥 Unsloth Zoo will now patch everything to make training faster!\n"
     ]
    },
    {
     "name": "stderr",
     "output_type": "stream",
     "text": [
      "Unrecognized keys in `rope_scaling` for 'rope_type'='yarn': {'attn_factor'}\n"
     ]
    },
    {
     "name": "stdout",
     "output_type": "stream",
     "text": [
      "==((====))==  Unsloth 2025.7.6: Fast Qwen3 patching. Transformers: 4.52.4.\n",
      "   \\\\   /|    Tesla T4. Num GPUs = 2. Max memory: 14.741 GB. Platform: Linux.\n",
      "O^O/ \\_/ \\    Torch: 2.6.0+cu124. CUDA: 7.5. CUDA Toolkit: 12.4. Triton: 3.2.0\n",
      "\\        /    Bfloat16 = FALSE. FA [Xformers = 0.0.29.post3. FA2 = False]\n",
      " \"-____-\"     Free license: http://github.com/unslothai/unsloth\n",
      "Unsloth: Fast downloading is enabled - ignore downloading bars which are red colored!\n"
     ]
    },
    {
     "name": "stderr",
     "output_type": "stream",
     "text": [
      "Unrecognized keys in `rope_scaling` for 'rope_type'='yarn': {'attn_factor'}\n",
      "Unrecognized keys in `rope_scaling` for 'rope_type'='yarn': {'attn_factor'}\n"
     ]
    },
    {
     "data": {
      "application/vnd.jupyter.widget-view+json": {
       "model_id": "3d68b1320eef4504a79f155fd6ce5ec9",
       "version_major": 2,
       "version_minor": 0
      },
      "text/plain": [
       "model.safetensors.index.json: 0.00B [00:00, ?B/s]"
      ]
     },
     "metadata": {},
     "output_type": "display_data"
    },
    {
     "data": {
      "application/vnd.jupyter.widget-view+json": {
       "model_id": "7634ceb6f1474522bd0e1e331d098e17",
       "version_major": 2,
       "version_minor": 0
      },
      "text/plain": [
       "Fetching 4 files:   0%|          | 0/4 [00:00<?, ?it/s]"
      ]
     },
     "metadata": {},
     "output_type": "display_data"
    },
    {
     "data": {
      "application/vnd.jupyter.widget-view+json": {
       "model_id": "29ce8fd2e30e4ab1ae04c38b3b277593",
       "version_major": 2,
       "version_minor": 0
      },
      "text/plain": [
       "model-00002-of-00004.safetensors:   0%|          | 0.00/4.92G [00:00<?, ?B/s]"
      ]
     },
     "metadata": {},
     "output_type": "display_data"
    },
    {
     "data": {
      "application/vnd.jupyter.widget-view+json": {
       "model_id": "e497a8d7fa284f88a948b3a48027a6b1",
       "version_major": 2,
       "version_minor": 0
      },
      "text/plain": [
       "model-00001-of-00004.safetensors:   0%|          | 0.00/4.90G [00:00<?, ?B/s]"
      ]
     },
     "metadata": {},
     "output_type": "display_data"
    },
    {
     "data": {
      "application/vnd.jupyter.widget-view+json": {
       "model_id": "e6ee12275a154940b4c2a6e741c50c91",
       "version_major": 2,
       "version_minor": 0
      },
      "text/plain": [
       "model-00004-of-00004.safetensors:   0%|          | 0.00/1.58G [00:00<?, ?B/s]"
      ]
     },
     "metadata": {},
     "output_type": "display_data"
    },
    {
     "data": {
      "application/vnd.jupyter.widget-view+json": {
       "model_id": "49912ebd71154d058e82b2709342ca68",
       "version_major": 2,
       "version_minor": 0
      },
      "text/plain": [
       "model-00003-of-00004.safetensors:   0%|          | 0.00/4.98G [00:00<?, ?B/s]"
      ]
     },
     "metadata": {},
     "output_type": "display_data"
    },
    {
     "data": {
      "application/vnd.jupyter.widget-view+json": {
       "model_id": "517213580a76479099c9eea2ee8cc778",
       "version_major": 2,
       "version_minor": 0
      },
      "text/plain": [
       "Loading checkpoint shards:   0%|          | 0/4 [00:00<?, ?it/s]"
      ]
     },
     "metadata": {},
     "output_type": "display_data"
    },
    {
     "data": {
      "application/vnd.jupyter.widget-view+json": {
       "model_id": "717590c32dd345fba74689a829eb372d",
       "version_major": 2,
       "version_minor": 0
      },
      "text/plain": [
       "generation_config.json:   0%|          | 0.00/171 [00:00<?, ?B/s]"
      ]
     },
     "metadata": {},
     "output_type": "display_data"
    },
    {
     "data": {
      "application/vnd.jupyter.widget-view+json": {
       "model_id": "c04d1b723280407b80eff7e42717503c",
       "version_major": 2,
       "version_minor": 0
      },
      "text/plain": [
       "tokenizer_config.json: 0.00B [00:00, ?B/s]"
      ]
     },
     "metadata": {},
     "output_type": "display_data"
    },
    {
     "data": {
      "application/vnd.jupyter.widget-view+json": {
       "model_id": "955400138d8d43828985acd86a61d766",
       "version_major": 2,
       "version_minor": 0
      },
      "text/plain": [
       "tokenizer.json:   0%|          | 0.00/11.4M [00:00<?, ?B/s]"
      ]
     },
     "metadata": {},
     "output_type": "display_data"
    },
    {
     "data": {
      "application/vnd.jupyter.widget-view+json": {
       "model_id": "2ed9abc55ca64e65bef06ddb581958fc",
       "version_major": 2,
       "version_minor": 0
      },
      "text/plain": [
       "special_tokens_map.json:   0%|          | 0.00/472 [00:00<?, ?B/s]"
      ]
     },
     "metadata": {},
     "output_type": "display_data"
    },
    {
     "data": {
      "application/vnd.jupyter.widget-view+json": {
       "model_id": "e8b3696c4ea64ed4b34c1b72dc770994",
       "version_major": 2,
       "version_minor": 0
      },
      "text/plain": [
       "chat_template.jinja: 0.00B [00:00, ?B/s]"
      ]
     },
     "metadata": {},
     "output_type": "display_data"
    }
   ],
   "source": [
    "from unsloth import FastLanguageModel\n",
    "import torch\n",
    "\n",
    "# max_seq_length = 10000 # set cao hơn khi train?\n",
    "max_seq_length = 8192 \n",
    "model, tokenizer = FastLanguageModel.from_pretrained(\n",
    "    model_name = \"lmq1909/Qwen3-8B-LQA-14e-GRPO-100s-save1-full\",\n",
    "    max_seq_length = max_seq_length,   # Context length - can be longer, but uses more memory\n",
    "    load_in_4bit = True,     # 4bit uses much less memory\n",
    "    load_in_8bit = False,    # A bit more accurate, uses 2x memory\n",
    "    full_finetuning = False, # We have full finetuning now!\n",
    "    # token = \"hf_...\",      # use one if using gated models\n",
    ")"
   ]
  },
  {
   "cell_type": "code",
   "execution_count": 33,
   "metadata": {
    "execution": {
     "iopub.execute_input": "2025-07-21T13:33:48.337787Z",
     "iopub.status.busy": "2025-07-21T13:33:48.337534Z",
     "iopub.status.idle": "2025-07-21T13:33:48.342713Z",
     "shell.execute_reply": "2025-07-21T13:33:48.342028Z",
     "shell.execute_reply.started": "2025-07-21T13:33:48.337761Z"
    },
    "trusted": true
   },
   "outputs": [],
   "source": [
    "# def generate_think_response(messages: list[dict]) -> str: \n",
    "#     text = tokenizer.apply_chat_template(\n",
    "#         messages,\n",
    "#         tokenize = False,\n",
    "#         add_generation_prompt = True, # Must add for generation\n",
    "#         enable_thinking = True, # không cần trong mô hình này\n",
    "#     )\n",
    "#     max_input_tokens = len(tokenizer(prompt)[\"input_ids\"])\n",
    "#     max_new_tokens = max_seq_length - max_input_tokens\n",
    "    \n",
    "#     generated_output = model.generate(\n",
    "#         **tokenizer(text, return_tensors = \"pt\").to(\"cuda\"),\n",
    "#         max_new_tokens = max_new_tokens,\n",
    "#         temperature = 0.6, top_p = 0.95, top_k = 20, # For thinking\n",
    "#     )\n",
    "    \n",
    "#     # Giải mã token ID thành chuỗi văn bản\n",
    "#     decoded_output = tokenizer.decode(generated_output[0], skip_special_tokens=True)\n",
    "#     response_text = decoded_output.split('<｜Assistant｜>')[-1]\n",
    "#     return response_text\n",
    "def generate_think_response(messages: list[dict], question_id: str = \"\") -> str:\n",
    "    text = tokenizer.apply_chat_template(\n",
    "        messages,\n",
    "        tokenize=False,\n",
    "        add_generation_prompt=True,\n",
    "        enable_thinking=True,\n",
    "    )\n",
    "\n",
    "    max_new_tokens = 512\n",
    "    max_retry = 4\n",
    "\n",
    "    for attempt in range(max_retry):\n",
    "        try:\n",
    "            inputs = tokenizer(text, return_tensors=\"pt\")\n",
    "            inputs = {k: v.to(\"cuda\") for k, v in inputs.items()}\n",
    "\n",
    "            generated_output = model.generate(\n",
    "                **inputs,\n",
    "                max_new_tokens=int(max_new_tokens),\n",
    "                temperature=0.6, top_p=0.95, top_k=20,\n",
    "            )\n",
    "\n",
    "            decoded_output = tokenizer.decode(generated_output[0], skip_special_tokens=True)\n",
    "            response_text = decoded_output.split('<｜Assistant｜>')[-1]\n",
    "\n",
    "            # print('response_text', response_text, '\\n\\n')\n",
    "            if \"kết luận\" in response_text.lower():\n",
    "                return response_text\n",
    "            else:\n",
    "                max_new_tokens *= 2\n",
    "                print(f\"Tăng max_new_tokens lên {max_new_tokens} cho question_id = {question_id}\")\n",
    "\n",
    "        except Exception as e:\n",
    "            print(f\"[ERROR] Lỗi sinh văn bản cho câu hỏi {question_id}: {e}\")\n",
    "            break\n",
    "\n",
    "    # ❌ Nếu sau 3 lần vẫn không có end token\n",
    "    print(f\"Lỗi generate_think_response cho question_id = {question_id}\")\n",
    "    return response_text"
   ]
  },
  {
   "cell_type": "code",
   "execution_count": 34,
   "metadata": {
    "execution": {
     "iopub.execute_input": "2025-07-21T13:33:48.343658Z",
     "iopub.status.busy": "2025-07-21T13:33:48.343376Z",
     "iopub.status.idle": "2025-07-21T13:34:21.712909Z",
     "shell.execute_reply": "2025-07-21T13:34:21.712121Z",
     "shell.execute_reply.started": "2025-07-21T13:33:48.343641Z"
    },
    "trusted": true
   },
   "outputs": [
    {
     "name": "stdout",
     "output_type": "stream",
     "text": [
      "<think>\n",
      "\n",
      "1. Phân tích câu hỏi: Câu hỏi yêu cầu xác định trường hợp mà \"Chồng không có quyền yêu cầu ly hôn\". Đây là câu hỏi trắc nghiệm với 4 lựa chọn, trong đó chỉ có một lựa chọn đúng.\n",
      "\n",
      "2. Dẫn chứng từ bối cảnh:\n",
      "   - [Điểm 1]: Vợ, chồng hoặc cả hai có quyền yêu cầu giải quyết ly hôn. (Điều này cho thấy nguyên tắc chung về quyền yêu cầu ly hôn).\n",
      "   - [Điểm 2]: Cha, mẹ, người thân thích khác có quyền yêu cầu giải quyết ly hôn khi một bên vợ, chồng do bị bệnh tâm thần hoặc mắc bệnh khác mà không thể nhận thức, làm chủ được hành vi của mình, đồng thời là nạn nhân của bạo lực gia đình do chồng, vợ của họ gây ra làm ảnh hưởng nghiêm trọng đến tính mạng, sức khỏe, tinh thần của họ. (Điều này mở rộng quyền yêu cầu ly hôn cho các thành viên khác trong gia đình trong某些条件下).\n",
      "   - [Điểm 3]: Chồng không có quyền yêu cầu ly hôn trong trường hợp vợ đang có thai, sinh con hoặc đang nuôi con dưới 12 tháng tuổi. (Điều này trực tiếp trả lời câu hỏi, chỉ ra trường hợp cụ thể mà chồng không có quyền yêu cầu ly hôn).\n",
      "\n",
      "3. Suy luận step-by-step:\n",
      "   a) Câu hỏi tập trung vào trường hợp \"Chồng không có quyền yêu cầu ly hôn\", tức là xác định trường hợp mà quyền yêu cầu ly hôn của chồng bị giới hạn hoặc không được phép.\n",
      "   b) Dẫn chứng từ bối cảnh cho thấy, điểm 3 nêu rõ trường hợp vợ đang có thai, sinh con hoặc đang nuôi con dưới 12 tháng tuổi là trường hợp mà chồng không có quyền yêu cầu ly hôn.\n",
      "   c) Các trường hợp khác (A, B, D) không được nêu trong bối cảnh là các trường hợp mà chồng có quyền yêu cầu ly hôn hoặc không có quy định cấm.\n",
      "\n",
      "4. Kết luận: C\n",
      "</think>\n",
      "C\n"
     ]
    }
   ],
   "source": [
    "system_prompt = \"\"\"Bạn là một trợ lý pháp lý Tiếng Việt, có nhiệm vụ trả lời các câu hỏi ngắn gọn, chính xác, dựa trên nội dung điều luật được cung cấp. Chỉ trả lời bằng Tiếng Việt.\n",
    "\n",
    "Bạn hãy trả lời theo định dạng sau:\n",
    "<think>\n",
    "[Suy nghĩ, phân tích của bạn]\n",
    "</think>\n",
    "[Câu trả lời của bạn]\n",
    "\"\"\"\n",
    "prompt = '''Dựa vào bối cảnh bên dưới, hãy phân tích kỹ trước khi trả lời câu hỏi.\n",
    "\n",
    "Loại câu hỏi: Trắc nghiệm (format của Kết luận cuối cùng sau khi suy luận là 1 trong 4 kết luận: 'A', 'B', 'C', 'D'. Không được giải thích gì thêm.)\n",
    "\n",
    "Câu hỏi: Chồng không có quyền yêu cầu ly hôn \n",
    "trong trường hợp nào ?\n",
    "\n",
    "Bối cảnh: \n",
    "Quyền yêu cầu giải quyết ly hôn\n",
    "1. Vợ, chồng hoặc cả hai người có quyền yêu cầu Tòa án giải quyết ly hôn.\n",
    "\n",
    "2. Cha, mẹ, người thân thích khác có quyền yêu cầu Tòa án giải quyết ly hôn khi một bên vợ, chồng do bị bệnh tâm thần hoặc mắc bệnh khác mà không thể nhận thức, làm chủ được hành vi của mình, đồng thời là nạn nhân của bạo lực gia đình do chồng, vợ của họ gây ra làm ảnh hưởng nghiêm trọng đến tính mạng, sức khỏe, tinh thần của họ.\n",
    "\n",
    "3. Chồng không có quyền yêu cầu ly hôn trong trường hợp vợ đang có thai, sinh con hoặc đang nuôi con dưới 12 tháng tuổi.\n",
    "\n",
    "4 lựa chọn: \n",
    "A: Vợ bị bệnh tâm thần, không thể nhận thức, làm chủ hành vi của mình.\n",
    "B:Vợ ngoại tình với người đàn ông khác.\n",
    "C: Vợ đang có thai, sinh con hoặc đang \n",
    "nuôi con dưới 12 tháng tuổi.\n",
    "D:Hai vợ chồng không hợp nhau, thường xuyên xảy ra xung đột, cãi vã. \n",
    "\n",
    "\n",
    "Hãy sinh phần suy luận chi tiết theo mẫu bên dưới trong thẻ <think>...</think>. Bạn cần viết đầy đủ các bước phân tích, dẫn chứng và suy luận trước khi đưa ra câu trả lời ngắn gọn.\n",
    "Không được trả lời ngay mà phải suy luận đầy đủ trước trong <think>.\n",
    "\n",
    "<think>\n",
    "1. Phân tích câu hỏi: [trình bày ngắn gọn nội dung và ý định của câu hỏi]\n",
    "2. Dẫn chứng từ bối cảnh:\n",
    "   - Hãy tách từng đoạn dài trong bối cảnh thành nhiều ý nhỏ rõ ràng.\n",
    "   - Hãy tách ít nhất 3 đến 5 ý ở phần dẫn chứng từ bối cảnh\n",
    "   - Mỗi ý nên nêu rõ nội dung pháp lý, viết ngắn gọn dễ hiểu.\n",
    "   - Ví dụ:\n",
    "       - [ý 1 từ đoạn luật A]\n",
    "       - [ý 2 từ đoạn luật A]\n",
    "       - [ý 3 từ đoạn luật B]\n",
    "   - Ghi rõ đoạn nào có liên quan đến câu hỏi.\n",
    "3. Suy luận step-by-step:\n",
    "   a) [bước suy luận 1 dựa trên dẫn chứng ở trên]\n",
    "   b) [bước suy luận 2 tiếp theo]\n",
    "   …\n",
    "4. Kết luận: [tóm tắt câu trả lời cuối cùng dựa trên suy luận]\n",
    "</think>\n",
    "\n",
    "[Kết luận cuối cùng sau khi suy luận]\n",
    "'''\n",
    "\n",
    "messages = [{'role': 'system', \n",
    "             'content': system_prompt}, \n",
    "            {'role': 'user', \n",
    "             'content': prompt}]\n",
    "response_text = generate_think_response(messages=messages)\n",
    "print(response_text)"
   ]
  },
  {
   "cell_type": "markdown",
   "metadata": {},
   "source": [
    "## inference valid"
   ]
  },
  {
   "cell_type": "code",
   "execution_count": 38,
   "metadata": {
    "execution": {
     "iopub.execute_input": "2025-07-21T13:34:47.392363Z",
     "iopub.status.busy": "2025-07-21T13:34:47.392108Z",
     "iopub.status.idle": "2025-07-21T13:34:47.397220Z",
     "shell.execute_reply": "2025-07-21T13:34:47.396472Z",
     "shell.execute_reply.started": "2025-07-21T13:34:47.392345Z"
    },
    "trusted": true
   },
   "outputs": [
    {
     "data": {
      "text/plain": [
       "(82,\n",
       " ['question_id',\n",
       "  'question_type',\n",
       "  'text',\n",
       "  'relevant_articles',\n",
       "  'system_prompt',\n",
       "  'prompt',\n",
       "  'messages'])"
      ]
     },
     "execution_count": 38,
     "metadata": {},
     "output_type": "execute_result"
    }
   ],
   "source": [
    "len(test_dataset), test_dataset.column_names"
   ]
  },
  {
   "cell_type": "code",
   "execution_count": 36,
   "metadata": {
    "execution": {
     "iopub.execute_input": "2025-07-21T13:34:21.720329Z",
     "iopub.status.busy": "2025-07-21T13:34:21.720044Z",
     "iopub.status.idle": "2025-07-21T13:34:21.737377Z",
     "shell.execute_reply": "2025-07-21T13:34:21.736825Z",
     "shell.execute_reply.started": "2025-07-21T13:34:21.720306Z"
    },
    "trusted": true
   },
   "outputs": [],
   "source": [
    "# !rm -rf /kaggle/working/output/*"
   ]
  },
  {
   "cell_type": "code",
   "execution_count": null,
   "metadata": {
    "execution": {
     "iopub.execute_input": "2025-07-21T13:34:21.738136Z",
     "iopub.status.busy": "2025-07-21T13:34:21.737950Z",
     "iopub.status.idle": "2025-07-21T13:34:47.390750Z",
     "shell.execute_reply": "2025-07-21T13:34:47.389964Z",
     "shell.execute_reply.started": "2025-07-21T13:34:21.738122Z"
    },
    "trusted": true
   },
   "outputs": [
    {
     "name": "stdout",
     "output_type": "stream",
     "text": [
      "Đã lưu kết quả cho private_test_alquac25_1\n"
     ]
    }
   ],
   "source": [
    "import os\n",
    "output_folder = 'output'\n",
    "os.makedirs(output_folder, exist_ok=True) # Tạo thư mục nếu nó chưa tồn tại\n",
    "\n",
    "# Vòng lặp để xử lý từng mẫu và lưu kết quả\n",
    "for i in range(len(test_dataset)):\n",
    "    # Bây giờ, test_dataset[i] đã chứa tất cả các cột, bao gồm question_id\n",
    "    sample_data = test_dataset[i]\n",
    "    \n",
    "    question_id = sample_data['question_id']\n",
    "    # history = sample_data['messages'][:-1]\n",
    "    history = sample_data['messages']\n",
    "\n",
    "    # print(history)\n",
    "\n",
    "    # Gọi hàm để tạo phản hồi (thay thế bằng lời gọi LLM thực tế của bạn)\n",
    "    generated_answer = generate_think_response(history)\n",
    "\n",
    "    data_to_save = sample_data.copy()\n",
    "    data_to_save['generated_answer'] = generated_answer # Thêm câu trả lời được tạo\n",
    "\n",
    "    # Định dạng tên tệp và đường dẫn\n",
    "    file_name = f\"{question_id}.json\"\n",
    "    file_path_full = os.path.join(output_folder, file_name)\n",
    "\n",
    "    # Lưu dữ liệu vào tệp JSON\n",
    "    with open(file_path_full, 'w', encoding='utf-8') as f:\n",
    "        json.dump(data_to_save, f, ensure_ascii=False, indent=4) # indent=4 để dễ đọc JSON\n",
    "\n",
    "    print(f\"Đã lưu kết quả cho {question_id}\")\n",
    "    # break ###########################################################################"
   ]
  },
  {
   "cell_type": "markdown",
   "metadata": {},
   "source": [
    "## merge json files"
   ]
  },
  {
   "cell_type": "code",
   "execution_count": 39,
   "metadata": {
    "execution": {
     "iopub.execute_input": "2025-07-21T13:35:54.658304Z",
     "iopub.status.busy": "2025-07-21T13:35:54.657717Z",
     "iopub.status.idle": "2025-07-21T13:35:54.661273Z",
     "shell.execute_reply": "2025-07-21T13:35:54.660669Z",
     "shell.execute_reply.started": "2025-07-21T13:35:54.658281Z"
    },
    "trusted": true
   },
   "outputs": [],
   "source": [
    "# output_folder = '/kaggle/input/alqac-valid-inference-qwen/output'"
   ]
  },
  {
   "cell_type": "code",
   "execution_count": 59,
   "metadata": {
    "execution": {
     "iopub.execute_input": "2025-07-21T13:42:09.614232Z",
     "iopub.status.busy": "2025-07-21T13:42:09.613937Z",
     "iopub.status.idle": "2025-07-21T13:42:09.642517Z",
     "shell.execute_reply": "2025-07-21T13:42:09.641948Z",
     "shell.execute_reply.started": "2025-07-21T13:42:09.614211Z"
    },
    "trusted": true
   },
   "outputs": [
    {
     "name": "stdout",
     "output_type": "stream",
     "text": [
      "Đã hợp nhất các file thành DataFrame.\n",
      "\n",
      "Số lượng mẫu trong DataFrame đã hợp nhất: 1\n",
      "Số lượng mẫu dự kiến (từ valid_dataset): 100\n",
      ">>> CẢNH BÁO: Số lượng mẫu trong DataFrame KHÔNG khớp với số lượng mẫu trong valid_dataset. <<<\n"
     ]
    }
   ],
   "source": [
    "import pandas as pd\n",
    "import numpy as np\n",
    "import os\n",
    "import json\n",
    "\n",
    "all_json_files = []\n",
    "for filename in os.listdir(output_folder): # Lấy danh sách tất cả các file và thư mục trong output_folder [2, 3, 5, 6, 8]\n",
    "    if filename.endswith('.json'): # Chỉ xử lý các file có đuôi .json\n",
    "        file_path = os.path.join(output_folder, filename)\n",
    "        with open(file_path, 'r', encoding='utf-8') as f:\n",
    "            try:\n",
    "                data = json.load(f) # Tải nội dung JSON từ mỗi file [1, 9, 10, 11, 12]\n",
    "                all_json_files.append(data)\n",
    "            except json.JSONDecodeError:\n",
    "                print(f\"Cảnh báo: Không thể giải mã JSON từ tệp {file_path}. Bỏ qua tệp này.\")\n",
    "\n",
    "if not all_json_files:\n",
    "    print(\"Không tìm thấy tệp JSON nào để hợp nhất trong thư mục đầu ra.\")\n",
    "    merged_df = pd.DataFrame()\n",
    "else:\n",
    "    merged_df = pd.DataFrame(all_json_files) # Tạo DataFrame từ danh sách các dictionary [4, 7, 13, 14, 15]\n",
    "\n",
    "print(\"Đã hợp nhất các file thành DataFrame.\")\n",
    "\n",
    "# Kiểm tra số lượng mẫu\n",
    "num_merged_samples = len(merged_df)\n",
    "expected_samples = len(valid_dataset)\n",
    "\n",
    "print(f\"\\nSố lượng mẫu trong DataFrame đã hợp nhất: {num_merged_samples}\")\n",
    "print(f\"Số lượng mẫu dự kiến (từ valid_dataset): {expected_samples}\")\n",
    "\n",
    "if num_merged_samples == expected_samples:\n",
    "    print(\">>> Số lượng mẫu trong DataFrame khớp với số lượng mẫu trong valid_dataset. <<<\")\n",
    "else:\n",
    "    print(\">>> CẢNH BÁO: Số lượng mẫu trong DataFrame KHÔNG khớp với số lượng mẫu trong valid_dataset. <<<\")\n",
    "\n",
    "merged_df.to_csv('results_qwen.csv', index=False, encoding='utf-8-sig')"
   ]
  },
  {
   "cell_type": "markdown",
   "metadata": {},
   "source": [
    "## eval valid dataset"
   ]
  },
  {
   "cell_type": "code",
   "execution_count": null,
   "metadata": {
    "execution": {
     "iopub.execute_input": "2025-07-21T13:42:10.427385Z",
     "iopub.status.busy": "2025-07-21T13:42:10.426841Z",
     "iopub.status.idle": "2025-07-21T13:42:10.434371Z",
     "shell.execute_reply": "2025-07-21T13:42:10.433805Z",
     "shell.execute_reply.started": "2025-07-21T13:42:10.427360Z"
    },
    "trusted": true
   },
   "outputs": [],
   "source": [
    "import json\n",
    "from glob import glob\n",
    "\n",
    "# Giả định lst_file đã được tạo ra từ glob.\n",
    "# Trong môi trường thực tế, bạn sẽ chạy:\n",
    "lst_file = glob('output/*.json')\n",
    "\n",
    "print(f\"Tổng số file JSON tìm thấy: {len(lst_file)}\")\n",
    "\n",
    "word_need = \"kết luận\"\n",
    "# word_need = \"</think>\"\n",
    "found_files = [] # Dùng để lưu trữ tên các file thỏa mãn\n",
    "\n",
    "for file_path in lst_file:\n",
    "    try:\n",
    "        with open(file_path, 'r', encoding='utf-8') as f:\n",
    "            data = json.load(f)\n",
    "\n",
    "        answer_think_content = data.get('generated_answer', '')\n",
    "        \n",
    "        # Kiểm tra nếu chuỗi \"kết luận\" không có trong nội dung đã chuyển đổi\n",
    "        if word_need not in answer_think_content.lower():\n",
    "            found_files.append(file_path) # Thêm tên file vào danh sách\n",
    "\n",
    "    except FileNotFoundError:\n",
    "        print(f\"Lỗi: Không tìm thấy file {file_path}\")\n",
    "    except json.JSONDecodeError:\n",
    "        print(f\"Lỗi: Không thể đọc JSON từ file {file_path}\")\n",
    "    except Exception as e:\n",
    "        print(f\"Một lỗi không mong muốn xảy ra với file {file_path}: {e}\")\n",
    "\n",
    "# In tất cả các tên file thỏa mãn điều kiện\n",
    "if found_files:\n",
    "    print(f\"\\nCác file thỏa mãn điều kiện (answer_think.lower() không chứa '{word_need}'):\")\n",
    "    for file_name in found_files:\n",
    "        print(file_name)\n",
    "else:\n",
    "    print(\"\\nKhông có file nào thỏa mãn điều kiện.\")"
   ]
  },
  {
   "cell_type": "code",
   "execution_count": 61,
   "metadata": {
    "execution": {
     "iopub.execute_input": "2025-07-21T13:42:11.434118Z",
     "iopub.status.busy": "2025-07-21T13:42:11.433458Z",
     "iopub.status.idle": "2025-07-21T13:42:11.440961Z",
     "shell.execute_reply": "2025-07-21T13:42:11.440218Z",
     "shell.execute_reply.started": "2025-07-21T13:42:11.434095Z"
    },
    "trusted": true
   },
   "outputs": [
    {
     "data": {
      "text/plain": [
       "Index(['question_id', 'question_type', 'text', 'relevant_articles',\n",
       "       'system_prompt', 'prompt', 'messages', 'generated_answer'],\n",
       "      dtype='object')"
      ]
     },
     "execution_count": 61,
     "metadata": {},
     "output_type": "execute_result"
    }
   ],
   "source": [
    "import pandas as pd\n",
    "test_data = pd.read_csv('results_qwen.csv', encoding='utf-8')\n",
    "test_data.keys()"
   ]
  },
  {
   "cell_type": "code",
   "execution_count": 62,
   "metadata": {
    "execution": {
     "iopub.execute_input": "2025-07-21T13:42:12.086738Z",
     "iopub.status.busy": "2025-07-21T13:42:12.086461Z",
     "iopub.status.idle": "2025-07-21T13:42:12.092812Z",
     "shell.execute_reply": "2025-07-21T13:42:12.092174Z",
     "shell.execute_reply.started": "2025-07-21T13:42:12.086719Z"
    },
    "trusted": true
   },
   "outputs": [],
   "source": [
    "import re\n",
    "def postprocess_text(row):\n",
    "    generated_answer = row['generated_answer']\n",
    "    if '</think>' in generated_answer.lower():\n",
    "        generated_answer_process =  generated_answer.lower().split('</think>')[-1].strip()\n",
    "    elif 'kết luận' in generated_answer.lower():\n",
    "        generated_answer_process = generated_answer.lower().split('kết luận')[-1].strip()\n",
    "\n",
    "    if row['question_type'] != 'Tự luận': \n",
    "        # Chỉ giữ các chữ cái tiếng việt và không phải khoảng trắng (\\s)\".\n",
    "        generated_answer_process = re.sub(r\"[^a-zA-ZÀ-Ỷà-ỹĂăÂâÊêÔôƠơƯưĐđ\\s]\", \"\", generated_answer_process).strip().capitalize()\n",
    "\n",
    "    generated_answer_process = generated_answer_process\n",
    "    return generated_answer_process\n",
    "test_data['generated_answer_process'] = test_data.apply(postprocess_text, axis=1)"
   ]
  },
  {
   "cell_type": "code",
   "execution_count": 63,
   "metadata": {
    "execution": {
     "iopub.execute_input": "2025-07-21T13:42:13.014137Z",
     "iopub.status.busy": "2025-07-21T13:42:13.013864Z",
     "iopub.status.idle": "2025-07-21T13:42:13.019207Z",
     "shell.execute_reply": "2025-07-21T13:42:13.018596Z",
     "shell.execute_reply.started": "2025-07-21T13:42:13.014117Z"
    },
    "trusted": true
   },
   "outputs": [
    {
     "data": {
      "text/plain": [
       "'<think>\\n\\n1. Phân tích câu hỏi:  \\nCâu hỏi khẳng định rằng, hợp đồng điện tử được ký kết giữa hai hệ thống thông tin tự động mà không có sự can thiệp của con người sẽ không có giá trị pháp lý trong mọi trường hợp. Đây là một câu hỏi Đúng/Sai, yêu cầu xác định tính đúng hoặc sai của phát biểu trên.\\n\\n2. Dẫn chứng từ bối cảnh:  \\n- Hợp đồng điện tử được giao kết hoặc thực hiện từ sự tương tác giữa một hệ thống thông tin tự động với người hoặc giữa các hệ thống thông tin tự động với nhau không bị phủ nhận giá trị pháp lý chỉ vì không có sự kiểm tra hay can thiệp của con người vào từng hành động cụ thể do các hệ thống thông tin tự động thực hiện hay vào hợp đồng.  \\n- Bộ trưởng, Thủ trưởng cơ quan ngang Bộ ban hành theo thẩm quyền hoặc trình cấp có thẩm quyền ban hành quy định về giao kết và thực hiện hợp đồng điện tử trong lĩnh vực thuộc phạm vi nhiệm vụ, quyền hạn được phân công, phù hợp với điều kiện thực tiễn.\\n\\n3. Suy luận step-by-step:  \\na) Căn cứ vào quy định trong bối cảnh, hợp đồng điện tử được giao kết giữa các hệ thống thông tin tự động là một hình thức hợp đồng điện tử hợp lệ.  \\nb) Quy định nêu rõ rằng, việc không có sự can thiệp của con người vào từng hành động cụ thể của hệ thống thông tin tự động không phải là lý do để phủ nhận giá trị pháp lý của hợp đồng.  \\nc) Điều này có nghĩa là, hợp đồng điện tử ký kết giữa hai hệ thống thông tin tự động vẫn có giá trị pháp lý, miễn là đáp ứng các điều kiện và quy định của pháp luật.  \\nd) Do đó, câu hỏi khẳng định rằng nó sẽ không có giá trị pháp lý trong mọi trường hợp là không chính xác.\\n\\n4. Kết luận: Sai.\\n</think>\\nSai'"
      ]
     },
     "execution_count": 63,
     "metadata": {},
     "output_type": "execute_result"
    }
   ],
   "source": [
    "test_data['generated_answer'][0]"
   ]
  },
  {
   "cell_type": "code",
   "execution_count": 64,
   "metadata": {
    "execution": {
     "iopub.execute_input": "2025-07-21T13:42:14.604516Z",
     "iopub.status.busy": "2025-07-21T13:42:14.603824Z",
     "iopub.status.idle": "2025-07-21T13:42:14.609044Z",
     "shell.execute_reply": "2025-07-21T13:42:14.608415Z",
     "shell.execute_reply.started": "2025-07-21T13:42:14.604494Z"
    },
    "trusted": true
   },
   "outputs": [
    {
     "data": {
      "text/plain": [
       "'Sai'"
      ]
     },
     "execution_count": 64,
     "metadata": {},
     "output_type": "execute_result"
    }
   ],
   "source": [
    "test_data['generated_answer_process'][0]"
   ]
  },
  {
   "cell_type": "code",
   "execution_count": 65,
   "metadata": {
    "execution": {
     "iopub.execute_input": "2025-07-21T13:42:15.503583Z",
     "iopub.status.busy": "2025-07-21T13:42:15.503316Z",
     "iopub.status.idle": "2025-07-21T13:42:15.508975Z",
     "shell.execute_reply": "2025-07-21T13:42:15.508431Z",
     "shell.execute_reply.started": "2025-07-21T13:42:15.503563Z"
    },
    "trusted": true
   },
   "outputs": [],
   "source": [
    "#check format output\n",
    "for i in range(len(test_data)):\n",
    "    if test_data.iloc[i]['question_type'] == 'Đúng/Sai':\n",
    "        if test_data['generated_answer_process'][i] not in ['Đúng', 'Sai']:\n",
    "            print(test_data['question_id'][i])\n",
    "            print(test_data['generated_answer'][i])\n",
    "            print(test_data['generated_answer_process'][i])\n",
    "    elif test_data.iloc[i]['question_type'] == 'Trắc nghiệm':\n",
    "        if test_data['generated_answer_process'][i] not in ['A', 'B', 'C', 'D']:\n",
    "            print(test_data['question_id'][i])\n",
    "            print(test_data['generated_answer'][i])\n",
    "            print(test_data['generated_answer_process'][i])\n",
    "    elif test_data.iloc[i]['question_type'] == 'Tự luận':\n",
    "        pass\n",
    "    else:\n",
    "        print('error')"
   ]
  },
  {
   "cell_type": "code",
   "execution_count": null,
   "metadata": {
    "trusted": true
   },
   "outputs": [],
   "source": []
  }
 ],
 "metadata": {
  "kaggle": {
   "accelerator": "nvidiaTeslaT4",
   "dataSources": [
    {
     "datasetId": 7902327,
     "sourceId": 12521120,
     "sourceType": "datasetVersion"
    }
   ],
   "isGpuEnabled": true,
   "isInternetEnabled": true,
   "language": "python",
   "sourceType": "notebook"
  },
  "kernelspec": {
   "display_name": "datamining",
   "language": "python",
   "name": "python3"
  },
  "language_info": {
   "codemirror_mode": {
    "name": "ipython",
    "version": 3
   },
   "file_extension": ".py",
   "mimetype": "text/x-python",
   "name": "python",
   "nbconvert_exporter": "python",
   "pygments_lexer": "ipython3",
   "version": "3.11.11"
  }
 },
 "nbformat": 4,
 "nbformat_minor": 4
}
